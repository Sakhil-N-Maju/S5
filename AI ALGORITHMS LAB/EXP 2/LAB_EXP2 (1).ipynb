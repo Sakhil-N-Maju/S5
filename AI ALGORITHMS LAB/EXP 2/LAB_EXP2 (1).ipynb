{
 "cells": [
  {
   "cell_type": "raw",
   "id": "5e58c3f5-9c73-4ceb-9ed8-681af6f17856",
   "metadata": {},
   "source": [
    "Loops (for, while, nested loops)\n",
    "1. Print the first 10 natural numbers using a while loop.\n",
    "2. Print the multiplication table of a given number using a for loop.\n",
    "3. Use nested loops to print the following pattern:\n",
    " *\n",
    " **\n",
    " ***\n",
    " ****\n",
    " *****"
   ]
  },
  {
   "cell_type": "code",
   "execution_count": 1,
   "id": "9fb5ace8-0b89-4d34-8d03-4fc92bdd7309",
   "metadata": {},
   "outputs": [
    {
     "name": "stdout",
     "output_type": "stream",
     "text": [
      "1\n",
      "2\n",
      "3\n",
      "4\n",
      "5\n",
      "6\n",
      "7\n",
      "8\n",
      "9\n",
      "10\n"
     ]
    }
   ],
   "source": [
    "for i in range(1,11):\n",
    "    print(i)"
   ]
  },
  {
   "cell_type": "code",
   "execution_count": 2,
   "id": "1d175a8b-37dd-49fd-b0f8-6445e25a802a",
   "metadata": {},
   "outputs": [
    {
     "name": "stdin",
     "output_type": "stream",
     "text": [
      "Entr number :  2\n"
     ]
    },
    {
     "name": "stdout",
     "output_type": "stream",
     "text": [
      "2 x 1 = 2\n",
      "2 x 2 = 4\n",
      "2 x 3 = 6\n",
      "2 x 4 = 8\n",
      "2 x 5 = 10\n",
      "2 x 6 = 12\n",
      "2 x 7 = 14\n",
      "2 x 8 = 16\n",
      "2 x 9 = 18\n",
      "2 x 10 = 20\n"
     ]
    }
   ],
   "source": [
    "n=int(input(\"Entr number : \"))\n",
    "for i in range(1,11):\n",
    "    print(n,\"x\",i,\"=\",n*i)"
   ]
  },
  {
   "cell_type": "code",
   "execution_count": 3,
   "id": "7c45bf60-a469-47ec-ab90-3a0f125503ac",
   "metadata": {},
   "outputs": [
    {
     "name": "stdout",
     "output_type": "stream",
     "text": [
      "\n",
      "*\n",
      "**\n",
      "***\n",
      "****\n"
     ]
    }
   ],
   "source": [
    "for i in range(5):\n",
    "    for j in range(i):\n",
    "        print(\"*\",end='')\n",
    "    print() "
   ]
  },
  {
   "cell_type": "raw",
   "id": "f7bfd6e2-4e25-4e37-be4f-3495cc80d419",
   "metadata": {},
   "source": [
    "Data Structures: List, Dictionary, Tuple, Set\n",
    "1. Create a list of 5 fruits and print them using a loop.\n",
    "2. Create a dictionary of 3 students with their marks and print each name with marks.\n",
    "3. Define a tuple with 5 even numbers and print the third item.\n",
    "4. Create a set with duplicate values and print the unique items."
   ]
  },
  {
   "cell_type": "code",
   "execution_count": 4,
   "id": "3c0120c0-52cf-441a-bf38-a5b76ee204f3",
   "metadata": {},
   "outputs": [
    {
     "name": "stdout",
     "output_type": "stream",
     "text": [
      "apple\n",
      "orange\n",
      "mango\n",
      "grape\n",
      "banana\n"
     ]
    }
   ],
   "source": [
    "n=[\"apple\",\"orange\",\"mango\",\"grape\",\"banana\"]\n",
    "for i in n:\n",
    "    print(i)"
   ]
  },
  {
   "cell_type": "code",
   "execution_count": 5,
   "id": "821bd9fe-245e-4aca-a68e-f924a2621c31",
   "metadata": {},
   "outputs": [
    {
     "name": "stdout",
     "output_type": "stream",
     "text": [
      "a 20\n",
      "b 30\n",
      "c 40\n"
     ]
    }
   ],
   "source": [
    "d={\"a\":20,\"b\":30,\"c\":40}\n",
    "for i in d:\n",
    "    print(i,d[i])"
   ]
  },
  {
   "cell_type": "code",
   "execution_count": 6,
   "id": "fe3581ce-baa5-4f70-8848-da6f7f12ec6e",
   "metadata": {},
   "outputs": [
    {
     "name": "stdout",
     "output_type": "stream",
     "text": [
      "6\n"
     ]
    }
   ],
   "source": [
    "n=(2,4,6,8,10)\n",
    "print(n[2])"
   ]
  },
  {
   "cell_type": "code",
   "execution_count": 7,
   "id": "2f3bca16-fd1b-4857-8137-4d4a3eb4f5e4",
   "metadata": {},
   "outputs": [
    {
     "name": "stdout",
     "output_type": "stream",
     "text": [
      "2\n",
      "3\n",
      "4\n",
      "5\n",
      "8\n"
     ]
    }
   ],
   "source": [
    "s=[2,4,5,2,3,8,8]\n",
    "s=set(s)\n",
    "for i in s:\n",
    "    print(i)"
   ]
  },
  {
   "cell_type": "raw",
   "id": "c7874db3-3d1c-4370-b88e-f8e6809ad4d4",
   "metadata": {},
   "source": [
    "Indexing and Slicing\n",
    "Given a string 'PythonProgramming':\n",
    "- Print the first 6 characters\n",
    "- Print the last 6 characters\n",
    "- Print every second character\n",
    "- Reverse the string"
   ]
  },
  {
   "cell_type": "code",
   "execution_count": 8,
   "id": "1124a5ea-cf4a-4c76-a0ea-f0336e1a53ff",
   "metadata": {},
   "outputs": [
    {
     "name": "stdout",
     "output_type": "stream",
     "text": [
      "Python\n",
      "amming\n",
      "PtoPormig\n",
      "gnimmargorPnohtyP\n"
     ]
    }
   ],
   "source": [
    "s='PythonProgramming'\n",
    "print(s[0:6])\n",
    "print(s[-6::])\n",
    "print(s[::2])\n",
    "print(s[::-1])"
   ]
  },
  {
   "cell_type": "raw",
   "id": "e8cf41eb-a8c0-4332-8acf-fd09b121a1c2",
   "metadata": {},
   "source": [
    "List Comprehensions\n",
    "1. Generate a list of squares from 1 to 10 using list comprehension.\n",
    "2. Create a list of even numbers from 1 to 50 using list comprehension.\n",
    "3. From a list of strings, create a new list containing strings longer than 5 characters."
   ]
  },
  {
   "cell_type": "code",
   "execution_count": 9,
   "id": "5de66057-602e-4fd6-b41d-27feb3d32dea",
   "metadata": {},
   "outputs": [
    {
     "name": "stdout",
     "output_type": "stream",
     "text": [
      "[1, 4, 9, 16, 25, 36, 49, 64, 81, 100]\n"
     ]
    }
   ],
   "source": [
    "s=[x**2 for x in range(1,11)]\n",
    "print(s)"
   ]
  },
  {
   "cell_type": "code",
   "execution_count": 10,
   "id": "1ef71466-e4b2-4ab1-9f3b-27c42542a63a",
   "metadata": {},
   "outputs": [
    {
     "name": "stdout",
     "output_type": "stream",
     "text": [
      "[2, 4, 6, 8, 10, 12, 14, 16, 18, 20, 22, 24, 26, 28, 30, 32, 34, 36, 38, 40, 42, 44, 46, 48, 50]\n"
     ]
    }
   ],
   "source": [
    "n=[x for x in range(2,51,2)]\n",
    "print(n)"
   ]
  },
  {
   "cell_type": "code",
   "execution_count": 11,
   "id": "e0b53b87-0cf1-4bd0-bedf-681970513219",
   "metadata": {},
   "outputs": [
    {
     "name": "stdout",
     "output_type": "stream",
     "text": [
      "['sakhil', 'nima', 'sahil', 'appu', 'school']\n"
     ]
    }
   ],
   "source": [
    "a=[\"sakhil\",\"nima\",\"sahil\",\"appu\",\"school\"]\n",
    "s=[x for x in a if len(a) >= 5]\n",
    "print(s)"
   ]
  },
  {
   "cell_type": "raw",
   "id": "1eccb0be-3a23-4e28-a23d-5f23907faf3a",
   "metadata": {},
   "source": [
    "Functions and Recursion\n",
    "1. Write a function to check if a number is prime.\n",
    "2. Write a recursive function to compute factorial of a number.\n",
    "3. Write a function that takes a list and returns the sum of its elements."
   ]
  },
  {
   "cell_type": "code",
   "execution_count": 12,
   "id": "08601cc1-a832-4910-acbe-636b3bb7387f",
   "metadata": {},
   "outputs": [
    {
     "name": "stdin",
     "output_type": "stream",
     "text": [
      "Enter number :  10\n"
     ]
    },
    {
     "name": "stdout",
     "output_type": "stream",
     "text": [
      "Not Prime\n"
     ]
    }
   ],
   "source": [
    "def prime(n):\n",
    "    f=0\n",
    "    for i in range(2,n):\n",
    "        if n%i==0:\n",
    "            print(\"Not Prime\")\n",
    "            f=1\n",
    "            break\n",
    "    if f == 0:\n",
    "        print(\"Prime\")\n",
    "n=int(input(\"Enter number : \"))\n",
    "prime(n)"
   ]
  },
  {
   "cell_type": "code",
   "execution_count": 13,
   "id": "b087f52a-eecc-4e02-aa16-d89177bea1ab",
   "metadata": {},
   "outputs": [
    {
     "name": "stdin",
     "output_type": "stream",
     "text": [
      "Enter number :  5\n"
     ]
    },
    {
     "name": "stdout",
     "output_type": "stream",
     "text": [
      "Factorial :  120\n"
     ]
    }
   ],
   "source": [
    "def fact(n):\n",
    "    f=1\n",
    "    if n==0 or n==1:\n",
    "        return 1\n",
    "    else:\n",
    "        return n*fact(n-1)\n",
    "n=int(input(\"Enter number : \"))\n",
    "print(\"Factorial : \",fact(n))"
   ]
  },
  {
   "cell_type": "code",
   "execution_count": 14,
   "id": "7e48c523-54bb-4c5e-895f-f1f73464989f",
   "metadata": {},
   "outputs": [
    {
     "name": "stdin",
     "output_type": "stream",
     "text": [
      "enter numbers :  1,2,3,4,5\n"
     ]
    },
    {
     "name": "stdout",
     "output_type": "stream",
     "text": [
      "15\n"
     ]
    }
   ],
   "source": [
    "def test():\n",
    "    n= eval(input(\"enter numbers : \"))\n",
    "    s=0\n",
    "    for i in n:\n",
    "        s+=i\n",
    "    print(s) \n",
    "test()    "
   ]
  },
  {
   "cell_type": "raw",
   "id": "9732cb26-4d44-40b9-a920-32cff041f4dd",
   "metadata": {},
   "source": [
    "Object-Oriented Programming: class, object, constructor, getters/setters\n",
    "1. Define a class 'Student' with attributes name and grade.\n",
    "2. Write a constructor to initialize the attributes.\n",
    "3. Create getter and setter methods for name and grade.\n",
    "4. Create two student objects and print their details using the getters."
   ]
  },
  {
   "cell_type": "code",
   "execution_count": 15,
   "id": "819520b0-ab12-42ab-811d-9aabf383f6c9",
   "metadata": {},
   "outputs": [
    {
     "name": "stdout",
     "output_type": "stream",
     "text": [
      "a 1\n",
      "a 5\n"
     ]
    }
   ],
   "source": [
    "class student:\n",
    "    def __init__(self,name,grade):\n",
    "        self.name = name\n",
    "        self.grade = grade\n",
    "    def  get_name(self):\n",
    "        return self.name\n",
    "    def get_grade(self):\n",
    "        return self.grade\n",
    "    def set_name(self,name):\n",
    "        self.name=name\n",
    "    def set_grade(self,grade):\n",
    "        self.grade=grade\n",
    "s1=student(\"a\",1)\n",
    "s2=student(\"b\",2)\n",
    "print(s1.get_name(),s1.get_grade())\n",
    "s1.set_grade(5)\n",
    "print(s1.get_name(),s1.get_grade())\n",
    "        "
   ]
  }
 ],
 "metadata": {
  "kernelspec": {
   "display_name": "Python 3 (ipykernel)",
   "language": "python",
   "name": "python3"
  },
  "language_info": {
   "codemirror_mode": {
    "name": "ipython",
    "version": 3
   },
   "file_extension": ".py",
   "mimetype": "text/x-python",
   "name": "python",
   "nbconvert_exporter": "python",
   "pygments_lexer": "ipython3",
   "version": "3.10.12"
  }
 },
 "nbformat": 4,
 "nbformat_minor": 5
}
